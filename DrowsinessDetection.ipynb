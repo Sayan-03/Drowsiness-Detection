{
 "cells": [
  {
   "cell_type": "markdown",
   "id": "163d8b59",
   "metadata": {},
   "source": [
    "### Installing Dependencies"
   ]
  },
  {
   "cell_type": "code",
   "execution_count": null,
   "id": "42731434",
   "metadata": {
    "scrolled": true
   },
   "outputs": [],
   "source": [
    "!pip install cvzone"
   ]
  },
  {
   "cell_type": "code",
   "execution_count": null,
   "id": "0e160dba",
   "metadata": {},
   "outputs": [],
   "source": [
    "!pip install mediapipe --user"
   ]
  },
  {
   "cell_type": "markdown",
   "id": "347e5970",
   "metadata": {},
   "source": [
    "### Importing the libraries"
   ]
  },
  {
   "cell_type": "code",
   "execution_count": null,
   "id": "5996a63c",
   "metadata": {},
   "outputs": [],
   "source": [
    "import cv2 as cv\n",
    "import cvzone\n",
    "from cvzone.FaceMeshModule import FaceMeshDetector\n",
    "from cvzone.PlotModule import LivePlot"
   ]
  },
  {
   "cell_type": "code",
   "execution_count": null,
   "id": "01f3f3c1",
   "metadata": {},
   "outputs": [],
   "source": [
    "cap=cv.VideoCapture(0)\n",
    "detector=FaceMeshDetector(maxFaces=1)\n",
    "plotY=LivePlot(640,360,[20,50],invert=True)\n",
    "idList=[22,23,24,26,110,157,158,159,160,161,130,243]\n",
    "dangerDetector=[]\n",
    "driverSleeping=False\n",
    "while True:\n",
    "    success,img=cap.read()\n",
    "    img=cv.flip(img,1)\n",
    "    img, faces = detector.findFaceMesh(img,draw=False)\n",
    "    if faces:\n",
    "        face=faces[0]\n",
    "        for id in idList:\n",
    "            cv.circle(img,face[id],4,(255,0,255),cv.FILLED)\n",
    "        leftUp=face[159]\n",
    "        leftDown=face[23]\n",
    "        leftLeft=face[130]\n",
    "        leftRight=face[243]\n",
    "        lengthVertical,_=detector.findDistance(leftUp,leftDown)\n",
    "        lengthHorizontal,_=detector.findDistance(leftLeft,leftRight)\n",
    "        cv.line(img,leftLeft,leftRight,(0,200,0),2)\n",
    "        cv.line(img,leftUp,leftDown,(0,200,0),2)\n",
    "        ratio=int(100*(lengthVertical/lengthHorizontal))\n",
    "        if ratio<=29: #25\n",
    "            success, img = cap.read()\n",
    "            img = cv.flip(img, 1)\n",
    "            img, faces = detector.findFaceMesh(img, draw=False)\n",
    "            if faces:\n",
    "                face = faces[0]\n",
    "                for id in idList:\n",
    "                    cv.circle(img, face[id], 4, (255, 0, 255), cv.FILLED)\n",
    "                leftUp = face[159]\n",
    "                leftDown = face[23]\n",
    "                leftLeft = face[130]\n",
    "                leftRight = face[243]\n",
    "                lengthVertical, _ = detector.findDistance(leftUp, leftDown)\n",
    "                lengthHorizontal, _ = detector.findDistance(leftLeft, leftRight)\n",
    "                cv.line(img, leftLeft, leftRight, (0, 200, 0), 2)\n",
    "                cv.line(img, leftUp, leftDown, (0, 200, 0), 2)\n",
    "                ratio = int(100 * (lengthVertical / lengthHorizontal))\n",
    "                if ratio>=31:\n",
    "                    dangerDetector.clear()\n",
    "                else:\n",
    "                    dangerDetector.append(1)\n",
    "        if len(dangerDetector)>=15:\n",
    "            print(\"Driver is Sleeping!\")\n",
    "            driverSleeping=True          \n",
    "        else:\n",
    "            if driverSleeping:\n",
    "                print(\"Driver is Awake!\")\n",
    "                driverSleeping=False\n",
    "        imgPlot=plotY.update(ratio)\n",
    "        imgPlot=cv.resize(imgPlot,(640,480))\n",
    "    imgStack=cvzone.stackImages([img,imgPlot],2,1)\n",
    "    cv.imshow(\"Image\",imgStack)\n",
    "    key=cv.waitKey(1)\n",
    "    if key == ord('x'):\n",
    "        break\n",
    "cap.release()\n",
    "cv.destroyAllWindows()"
   ]
  },
  {
   "cell_type": "code",
   "execution_count": null,
   "id": "63eeb421",
   "metadata": {},
   "outputs": [],
   "source": []
  },
  {
   "cell_type": "code",
   "execution_count": null,
   "id": "7fa7c425",
   "metadata": {},
   "outputs": [],
   "source": []
  }
 ],
 "metadata": {
  "kernelspec": {
   "display_name": "Python 3 (ipykernel)",
   "language": "python",
   "name": "python3"
  },
  "language_info": {
   "codemirror_mode": {
    "name": "ipython",
    "version": 3
   },
   "file_extension": ".py",
   "mimetype": "text/x-python",
   "name": "python",
   "nbconvert_exporter": "python",
   "pygments_lexer": "ipython3",
   "version": "3.11.4"
  }
 },
 "nbformat": 4,
 "nbformat_minor": 5
}
